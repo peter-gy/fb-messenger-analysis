{
 "cells": [
  {
   "cell_type": "code",
   "execution_count": 83,
   "metadata": {},
   "outputs": [],
   "source": [
    "import pandas as pd\n",
    "import numpy as np\n",
    "import matplotlib.pyplot as plt\n",
    "import matplotlib.font_manager as fm\n",
    "from datetime import datetime"
   ]
  },
  {
   "cell_type": "code",
   "execution_count": 84,
   "metadata": {},
   "outputs": [],
   "source": [
    "# define the fonts to use for plots\n",
    "family = 'Myriad Pro'\n",
    "title_font = fm.FontProperties(family=family, style='normal', size=20, weight='normal', stretch='normal')\n",
    "label_font = fm.FontProperties(family=family, style='normal', size=16, weight='normal', stretch='normal')\n",
    "ticks_font = fm.FontProperties(family=family, style='normal', size=12, weight='normal', stretch='normal')"
   ]
  },
  {
   "cell_type": "code",
   "execution_count": 85,
   "metadata": {},
   "outputs": [],
   "source": [
    "# load the csv data file\n",
    "data = pd.read_csv('../resources/messages.csv')"
   ]
  },
  {
   "cell_type": "code",
   "execution_count": 86,
   "metadata": {},
   "outputs": [],
   "source": [
    "# extracting exact datetimes based on the timestamps\n",
    "all_dates = [*map(lambda ts : datetime.fromtimestamp(ts/1000).date(), data['timestamp'])]"
   ]
  },
  {
   "cell_type": "code",
   "execution_count": 87,
   "metadata": {},
   "outputs": [
    {
     "name": "stdout",
     "output_type": "stream",
     "text": [
      "There are 2,659 dates with messages.\n"
     ]
    },
    {
     "data": {
      "text/plain": [
       "2011-03-12    60\n",
       "2011-03-13    24\n",
       "2011-03-14    17\n",
       "2011-03-15     6\n",
       "2011-03-16     1\n",
       "dtype: int64"
      ]
     },
     "execution_count": 87,
     "metadata": {},
     "output_type": "execute_result"
    }
   ],
   "source": [
    "# get the count per date\n",
    "date_counts = pd.Series(all_dates).value_counts().sort_index()\n",
    "print('There are {:,} dates with messages.'.format(len(date_counts)))\n",
    "date_counts.head()"
   ]
  },
  {
   "cell_type": "code",
   "execution_count": 88,
   "metadata": {},
   "outputs": [
    {
     "name": "stdout",
     "output_type": "stream",
     "text": [
      "There are 3,344 dates total in the range, with or without messages.\n"
     ]
    },
    {
     "data": {
      "text/plain": [
       "2011-03-12    0\n",
       "2011-03-13    0\n",
       "2011-03-14    0\n",
       "2011-03-15    0\n",
       "2011-03-16    0\n",
       "dtype: int64"
      ]
     },
     "execution_count": 88,
     "metadata": {},
     "output_type": "execute_result"
    }
   ],
   "source": [
    "date_range = pd.date_range(start=min(all_dates), end=max(all_dates), freq='D')\n",
    "index = date_range.map(lambda x: str(x.date()))\n",
    "date_counts = date_counts.reindex(index, fill_value=0)\n",
    "print('There are {:,} dates total in the range, with or without messages.'.format(len(date_counts)))\n",
    "date_counts.head()"
   ]
  },
  {
   "cell_type": "code",
   "execution_count": null,
   "metadata": {},
   "outputs": [],
   "source": []
  }
 ],
 "metadata": {
  "kernelspec": {
   "display_name": "Python 3",
   "language": "python",
   "name": "python3"
  },
  "language_info": {
   "codemirror_mode": {
    "name": "ipython",
    "version": 3
   },
   "file_extension": ".py",
   "mimetype": "text/x-python",
   "name": "python",
   "nbconvert_exporter": "python",
   "pygments_lexer": "ipython3",
   "version": "3.8.1"
  }
 },
 "nbformat": 4,
 "nbformat_minor": 4
}
